{
 "cells": [
  {
   "cell_type": "markdown",
   "metadata": {
    "id": "omDZdUVdrBtf"
   },
   "source": [
    "# Trabalho 1 : Tetraedro gerado aleatoriamente numa esfera\n",
    "## SME0123 - Estatística\n",
    "### Outubro de 2023\n",
    "* Artur De Vlieger Lima - 13671574\n",
    "* Gabriel da Costa Merlin - 12544420\n",
    "* Vicenzo D'Arezzo Zilio - 13671790\n",
    "\n",
    "### Descrição do problema:\n",
    "Queremos ser capazes de estudar a probabilidade do seguinte evento: escolhendo 4 pontos aleatoriamente na superfície de uma esfera, qual a probabilidade do centro dela estar contido no tetraedro formado ao tomar esses pontos como vértices."
   ]
  },
  {
   "cell_type": "markdown",
   "source": [],
   "metadata": {
    "id": "1j3yNVlaLJCA"
   }
  },
  {
   "cell_type": "markdown",
   "metadata": {
    "id": "w3AupSSxxI5n"
   },
   "source": [
    "## 1. Definições, funções e classes"
   ]
  },
  {
   "cell_type": "code",
   "source": [
    "# Baixando pacote que permite fazer animações.\n",
    "!pip install -q ipympl"
   ],
   "metadata": {
    "id": "tJ_HvMcG-26X",
    "ExecuteTime": {
     "end_time": "2024-01-31T19:42:56.370223Z",
     "start_time": "2024-01-31T19:42:53.697218Z"
    }
   },
   "execution_count": 1,
   "outputs": []
  },
  {
   "cell_type": "code",
   "execution_count": 2,
   "metadata": {
    "id": "8KmMkqj6r25W",
    "ExecuteTime": {
     "end_time": "2024-01-31T19:43:02.468320Z",
     "start_time": "2024-01-31T19:43:02.243186Z"
    }
   },
   "outputs": [
    {
     "ename": "ModuleNotFoundError",
     "evalue": "No module named 'google'",
     "output_type": "error",
     "traceback": [
      "\u001B[0;31m---------------------------------------------------------------------------\u001B[0m",
      "\u001B[0;31mModuleNotFoundError\u001B[0m                       Traceback (most recent call last)",
      "Cell \u001B[0;32mIn[2], line 1\u001B[0m\n\u001B[0;32m----> 1\u001B[0m \u001B[38;5;28;01mfrom\u001B[39;00m \u001B[38;5;21;01mgoogle\u001B[39;00m\u001B[38;5;21;01m.\u001B[39;00m\u001B[38;5;21;01mcolab\u001B[39;00m \u001B[38;5;28;01mimport\u001B[39;00m output\n\u001B[1;32m      2\u001B[0m output\u001B[38;5;241m.\u001B[39menable_custom_widget_manager()\n\u001B[1;32m      4\u001B[0m \u001B[38;5;28;01mimport\u001B[39;00m \u001B[38;5;21;01mnumpy\u001B[39;00m \u001B[38;5;28;01mas\u001B[39;00m \u001B[38;5;21;01mnp\u001B[39;00m\n",
      "\u001B[0;31mModuleNotFoundError\u001B[0m: No module named 'google'"
     ]
    }
   ],
   "source": [
    "from google.colab import output\n",
    "output.enable_custom_widget_manager()\n",
    "\n",
    "import numpy as np\n",
    "\n",
    "import matplotlib.pyplot as plt\n",
    "from mpl_toolkits.mplot3d import Axes3D\n",
    "from mpl_toolkits.mplot3d.art3d import Poly3DCollection\n",
    "\n",
    "%matplotlib widget"
   ]
  },
  {
   "cell_type": "code",
   "execution_count": null,
   "metadata": {
    "id": "mcPKLJt2xLd2"
   },
   "outputs": [],
   "source": [
    "# Constantes usadas durante o código.\n",
    "n_points = 4\n",
    "radius = 1"
   ]
  },
  {
   "cell_type": "code",
   "execution_count": null,
   "metadata": {
    "id": "QslXFStyB2-T"
   },
   "outputs": [],
   "source": [
    "# Classe que representa os pontos que serão gerados ao redor da esfera.\n",
    "class SpherePoint():\n",
    "\n",
    "  # Construtor da classe. Usa modality para saber de que modo gerará o ponto.\n",
    "  def __init__(self, modality = 1):\n",
    "    # Gerando usando coordenadas esféricas.\n",
    "    if modality == 1:\n",
    "      self.theta = (np.pi * 2 * np.random.rand(1))[0]\n",
    "      self.phi = (np.pi * np.random.rand(1))[0]\n",
    "      self.rho = radius\n",
    "    # Gerando usando pontos em um cubo.\n",
    "    else:\n",
    "      norm = 2\n",
    "      while norm > 1:\n",
    "        self.x = ((np.random.rand(1))[0] * 2) - 1\n",
    "        self.y = ((np.random.rand(1))[0] * 2) - 1\n",
    "        self.z = ((np.random.rand(1))[0] * 2) - 1\n",
    "        arr = [self.x, self.y, self.z]\n",
    "        norm = np.linalg.norm(arr)\n",
    "\n",
    "      self.x = self.x / norm\n",
    "      self.y = self.y / norm\n",
    "      self.z = self.z / norm\n",
    "    self.modality = modality\n",
    "\n",
    "  # Retorna as coordenadas cartesianas do ponto da esfera em uma lista. Se for\n",
    "  # gerado via coordenadas polares, converte-as, se não, só as retorna.\n",
    "  def toCartesianCoord(self):\n",
    "    if self.modality == 1:\n",
    "      self.x = np.cos(self.theta) * np.sin(self.phi) * self.rho\n",
    "      self.y = np.sin(self.theta) * np.sin(self.phi) * self.rho\n",
    "      self.z = np.cos(self.phi) * self.rho\n",
    "\n",
    "    return [self.x, self.y, self.z]\n",
    "\n",
    "# Classe que representa o Tetraedro.\n",
    "class Tetrahedron():\n",
    "\n",
    "  # Construtor da classe.\n",
    "  def __init__(self, modality = 1):\n",
    "    isTetrahedron = False\n",
    "    self.points = []\n",
    "\n",
    "    # Verificamos se o Tetraedro gerado é realmente um tetraedro ao ver se os\n",
    "    # seus pontos são coplanares ou não. Caso não seja válido, geramos outros pontos.\n",
    "    while(not isTetrahedron):\n",
    "      self.points.clear()\n",
    "\n",
    "      for i in range(4):\n",
    "        sp = SpherePoint(modality)\n",
    "        self.points.append(sp)\n",
    "\n",
    "      if(areLinIndep(self.points[0].toCartesianCoord(), self.points[1].toCartesianCoord(), self.points[2].toCartesianCoord(), self.points[3].toCartesianCoord())):\n",
    "        isTetrahedron = True\n",
    "\n",
    "  # Retorna os vértices do tetraedro.\n",
    "  def getPoints(self):\n",
    "    return list(map(SpherePoint.toCartesianCoord, self.points))"
   ]
  },
  {
   "cell_type": "code",
   "execution_count": null,
   "metadata": {
    "id": "RaMJWEBVB-zd"
   },
   "outputs": [],
   "source": [
    "# Retorna as coordenadas cartesinas de um ponto dado em coordenadas esféricas.\n",
    "def esferical_to_cartesian(th, ph, rad):\n",
    "  x = np.cos(th) * np.sin(ph) * rad\n",
    "  y = np.sin(th) * np.sin(ph) * rad\n",
    "  z = np.cos(ph) * rad\n",
    "  return (x, y, z)\n",
    "\n",
    "# Verifica se 4 pontos são linearmente dependentes ou não.\n",
    "def areLinIndep(pa, pb, pc, pd):\n",
    "  v1 = np.array(pa)\n",
    "  v2 = np.array(pb)\n",
    "  v3 = np.array(pc)\n",
    "  v4 = np.array(pd)\n",
    "\n",
    "  dim = np.linalg.matrix_rank(np.column_stack((v1, v2, v3, v4)))\n",
    "\n",
    "  if dim == 3 : return True;\n",
    "  else : return False;\n",
    "\n",
    "# Plota o tetraedro gerado.\n",
    "def plotTetrahedron(points):\n",
    "  fig = plt.figure()\n",
    "  ax = fig.add_subplot(111, projection='3d')\n",
    "\n",
    "  # Gerando a esfera.\n",
    "  u = np.linspace(0, 2 * np.pi, 100)\n",
    "  v = np.linspace(0, np.pi, 100)\n",
    "  x = radius * np.outer(np.cos(u), np.sin(v))\n",
    "  y = radius * np.outer(np.sin(u), np.sin(v))\n",
    "  z = radius * np.outer(np.ones(np.size(u)), np.cos(v))\n",
    "\n",
    "  # Plotando a superfície.\n",
    "  ax.plot_surface(x, y, z, color='linen', alpha=0.2)\n",
    "\n",
    "  # Plotando curvas circulares na superfíce.\n",
    "  theta = np.linspace(0, 2 * np.pi, 100)\n",
    "  z = np.zeros(100)\n",
    "  x = radius * np.sin(theta)\n",
    "  y = radius * np.cos(theta)\n",
    "\n",
    "  ax.plot(x, y, z, color='black', alpha=0.15)\n",
    "  ax.plot(z, x, y, color='black', alpha=0.15)\n",
    "\n",
    "  # Adicionando as linhas dos eixos coordenados.\n",
    "  zeros = np.zeros(1000)\n",
    "  line = np.linspace(-10,10,1000)\n",
    "\n",
    "  # Adicionando os pontos.\n",
    "  x1 = [points[0][0], points[1][0], points[2][0]]\n",
    "  y1 = [points[0][1], points[1][1], points[2][1]]\n",
    "  z1 = [points[0][2], points[1][2], points[2][2]]\n",
    "\n",
    "  x2 = [points[0][0], points[1][0], points[3][0]]\n",
    "  y2 = [points[0][1], points[1][1], points[3][1]]\n",
    "  z2 = [points[0][2], points[1][2], points[3][2]]\n",
    "\n",
    "  x3 = [points[0][0], points[2][0], points[3][0]]\n",
    "  y3 = [points[0][1], points[2][1], points[3][1]]\n",
    "  z3 = [points[0][2], points[2][2], points[3][2]]\n",
    "\n",
    "  x4 = [points[1][0], points[2][0], points[3][0]]\n",
    "  y4 = [points[1][1], points[2][1], points[3][1]]\n",
    "  z4 = [points[1][2], points[2][2], points[3][2]]\n",
    "\n",
    "  for p in points:\n",
    "    ax.scatter(p[0], p[1], p[2], color='r', marker='o', s=40)\n",
    "    ax.scatter(0, 0, 0, color='black', marker='o', s=40)\n",
    "\n",
    "  # Adicionando o polígono.\n",
    "  verts1 = [list(zip(x1,y1,z1))]\n",
    "  verts2 = [list(zip(x2,y2,z2))]\n",
    "  verts3 = [list(zip(x3,y3,z3))]\n",
    "  verts4 = [list(zip(x4,y4,z4))]\n",
    "\n",
    "  ax.add_collection3d(Poly3DCollection(verts1, facecolors='cyan', linewidths=1, edgecolors='r', alpha=.25))\n",
    "  ax.add_collection3d(Poly3DCollection(verts2, facecolors='yellow', linewidths=1, edgecolors='r', alpha=.25))\n",
    "  ax.add_collection3d(Poly3DCollection(verts3, facecolors='red', linewidths=1, edgecolors='r', alpha=.25))\n",
    "  ax.add_collection3d(Poly3DCollection(verts4, facecolors='green', linewidths=1, edgecolors='r', alpha=.25))\n",
    "\n",
    "  ax.plot(line, zeros, zeros, color='black', alpha=0.25)\n",
    "  ax.plot(zeros, line, zeros, color='black', alpha=0.25)\n",
    "  ax.plot(zeros, zeros, line, color='black', alpha=0.25)\n",
    "\n",
    "  plt.show()"
   ]
  },
  {
   "cell_type": "markdown",
   "metadata": {
    "id": "1Hw2S3D3tC12"
   },
   "source": [
    "## 2. Gerando os pontos aleatoriamente na superfície:\n"
   ]
  },
  {
   "cell_type": "markdown",
   "metadata": {
    "id": "0fgJGBA_ZVJH"
   },
   "source": [
    " Modelo 1\n",
    "\n",
    "Para gerar os pontos, representamo-nos no sistema de coordenadas esféricas, gerando os ângulos Phi e Theta aleatorimente e, para garantir o pertencimento à superfície, usamos um raio fixo equivalente ao raio da esfera.\n",
    "\n",
    "* ϴ ∈ [0, 2π]\n",
    "* ϕ ∈ [0, π]\n",
    "\n",
    "Posteriormente, usaremos uma transformação para converter o sistema de coordenadas para as cartesianas no Espaço."
   ]
  },
  {
   "cell_type": "code",
   "execution_count": null,
   "metadata": {
    "id": "5YkLREwIz2QU"
   },
   "outputs": [],
   "source": [
    "# Gerando vários pontos ao redor da esfera.\n",
    "theta_list = np.pi * 2 * np.random.rand(n_points)\n",
    "phi_list = np.pi * np.random.rand(n_points)\n",
    "\n",
    "points = []\n",
    "\n",
    "# Mudando o sistema de coordenadas de eséricas para cartesianas.\n",
    "for th, ph in zip(theta_list, phi_list):\n",
    "  points.append(esferical_to_cartesian(th, ph, radius))\n",
    "\n",
    "fig = plt.figure()\n",
    "ax = fig.add_subplot(111, projection='3d')\n",
    "\n",
    "# Gerando a esfera.\n",
    "u = np.linspace(0, 2 * np.pi, 100)\n",
    "v = np.linspace(0, np.pi, 100)\n",
    "x = radius * np.outer(np.cos(u), np.sin(v))\n",
    "y = radius * np.outer(np.sin(u), np.sin(v))\n",
    "z = radius * np.outer(np.ones(np.size(u)), np.cos(v))\n",
    "\n",
    "# Plotando a superfície.\n",
    "ax.plot_surface(x, y, z, color='linen', alpha=0.5)\n",
    "\n",
    "# Plotando curvas circulares na superfíce.\n",
    "theta = np.linspace(0, 2 * np.pi, 100)\n",
    "z = np.zeros(100)\n",
    "x = radius * np.sin(theta)\n",
    "y = radius * np.cos(theta)\n",
    "\n",
    "ax.plot(x, y, z, color='black', alpha=0.75)\n",
    "ax.plot(z, x, y, color='black', alpha=0.75)\n",
    "\n",
    "# Adicionando as linhas dos eixos coordenados.\n",
    "zeros = np.zeros(1000)\n",
    "line = np.linspace(-10,10,1000)\n",
    "\n",
    "# Adicionando os pontos.\n",
    "for p in points:\n",
    "  ax.scatter(p[0], p[1], p[2], color='r', marker='o', s=40)\n",
    "\n",
    "ax.plot(line, zeros, zeros, color='black', alpha=0.75)\n",
    "ax.plot(zeros, line, zeros, color='black', alpha=0.75)\n",
    "ax.plot(zeros, zeros, line, color='black', alpha=0.75)\n",
    "\n",
    "plt.show()"
   ]
  },
  {
   "cell_type": "markdown",
   "metadata": {
    "id": "Za92J75RJ9_R"
   },
   "source": [
    "Modelo 2\n",
    "\n",
    "Neste segundo modelo, vamos gerar 𝑥 ∼ 𝑈 (−1, 1) e assim, analogamente, para 𝑦, 𝑧, criando um ponto\n",
    "𝑝1 uniformemente distribuído dentro de um cubo. Descartamos 𝑝1 se ele cair fora da esfera de\n",
    "raio 𝑟 = 1 inscrito no cubo. Por ultimo, “projetamos” na superfície: 𝑝1 = 𝑝1/ norma(𝑝1). E, claro,\n",
    "repete-se isso para obter 𝑝2 a 𝑝4, levando ao primeiro tetraedro simulado por este modelo.\n"
   ]
  },
  {
   "cell_type": "code",
   "execution_count": null,
   "metadata": {
    "id": "_1J2XAhOJ_eI"
   },
   "outputs": [],
   "source": [
    "# Gerando vários pontos ao redor da esfera.\n",
    "points = []\n",
    "for i in range(4):\n",
    "    sp = SpherePoint(modality = 2)\n",
    "    points.append(sp.toCartesianCoord())\n",
    "\n",
    "fig = plt.figure()\n",
    "ax = fig.add_subplot(111, projection='3d')\n",
    "\n",
    "# Gerando a esfera.\n",
    "u = np.linspace(0, 2 * np.pi, 100)\n",
    "v = np.linspace(0, np.pi, 100)\n",
    "x = radius * np.outer(np.cos(u), np.sin(v))\n",
    "y = radius * np.outer(np.sin(u), np.sin(v))\n",
    "z = radius * np.outer(np.ones(np.size(u)), np.cos(v))\n",
    "\n",
    "# Plotando a superfície.\n",
    "ax.plot_surface(x, y, z, color='linen', alpha=0.5)\n",
    "\n",
    "# Plotando curvas circulares na superfíce.\n",
    "theta = np.linspace(0, 2 * np.pi, 100)\n",
    "z = np.zeros(100)\n",
    "x = radius * np.sin(theta)\n",
    "y = radius * np.cos(theta)\n",
    "\n",
    "ax.plot(x, y, z, color='black', alpha=0.75)\n",
    "ax.plot(z, x, y, color='black', alpha=0.75)\n",
    "\n",
    "# Adicionando as linhas dos eixos coordenados.\n",
    "zeros = np.zeros(1000)\n",
    "line = np.linspace(-10,10,1000)\n",
    "\n",
    "# Adicionando os pontos.\n",
    "for p in points:\n",
    "  ax.scatter(p[0], p[1], p[2], color='g', marker='o', s=40)\n",
    "\n",
    "ax.plot(line, zeros, zeros, color='black', alpha=0.75)\n",
    "ax.plot(zeros, line, zeros, color='black', alpha=0.75)\n",
    "ax.plot(zeros, zeros, line, color='black', alpha=0.75)\n",
    "\n",
    "plt.show()"
   ]
  },
  {
   "cell_type": "markdown",
   "metadata": {
    "id": "W63nSi5viyvb"
   },
   "source": [
    "## 3. Obtenção do Tetraedro\n",
    "Para aferir o sólido formado, primeiro, devemos verificar a dependência linear dos vetores dados entre cada ponto e a origem. Geometricamente, o tetraedro só se forma caso os 4 pontos não pertençam ao mesmo plano, o que pode ser verificado através da medição da dimensão."
   ]
  },
  {
   "cell_type": "code",
   "execution_count": null,
   "metadata": {
    "id": "DjNu20Hp5kp9"
   },
   "outputs": [],
   "source": [
    "# Gerando o Tetraedro.\n",
    "tet = Tetrahedron()\n",
    "\n",
    "# Encontrando as coordenadas cartesianas de cada um dos 4 vértices do tetraedro.\n",
    "vertexA = np.array(tet.points[0].toCartesianCoord())\n",
    "vertexB = np.array(tet.points[1].toCartesianCoord())\n",
    "vertexC = np.array(tet.points[2].toCartesianCoord())\n",
    "vertexD = np.array(tet.points[3].toCartesianCoord())\n",
    "\n",
    "# Calculando os vetores normais de cada face do Tetraedro.\n",
    "normalVectors = [\n",
    "  np.cross((vertexB - vertexA), (vertexC - vertexA)),\n",
    "  np.cross((vertexB - vertexA), (vertexD - vertexA)),\n",
    "  np.cross((vertexC - vertexA), (vertexD - vertexA)),\n",
    "  np.cross((vertexC - vertexB), (vertexD - vertexB))\n",
    "]\n",
    "\n",
    "# Encontrando o centróide do Tetraedro.\n",
    "centroid = (vertexA + vertexB + vertexC + vertexD) / 4\n",
    "\n",
    "# Lista com todos os vértices do Tetraedro.\n",
    "basePoints = np.array([vertexA, vertexA, vertexA, vertexB])\n",
    "\n",
    "# Fazendo com que todos os vetores normais apontem para fora do tetraedro.\n",
    "for i in range(4):\n",
    "  if(((centroid - basePoints[i]) * normalVectors[i]).sum() > 0):\n",
    "    normalVectors[i] *= -1\n",
    "\n",
    "isOutside = False\n",
    "\n",
    "# Verificando se o centro da esfera está dentro do Tetraedro.\n",
    "for i in range(4):\n",
    "  if(((-1 * basePoints[i]) * normalVectors[i]).sum() > 0):\n",
    "    isOutside = True\n",
    "    break\n",
    "\n",
    "# Plotando o Tetraedro.\n",
    "plotTetrahedron(tet.getPoints())"
   ]
  },
  {
   "cell_type": "code",
   "source": [
    "# Imprimindo se o centro da esfera está fora do Tetraedro.\n",
    "isOutside"
   ],
   "metadata": {
    "id": "ZcNdH6_lFnGL"
   },
   "execution_count": null,
   "outputs": []
  },
  {
   "cell_type": "markdown",
   "metadata": {
    "id": "2-yPRTPHGBr4"
   },
   "source": [
    "## 4. Simulação"
   ]
  },
  {
   "cell_type": "code",
   "execution_count": null,
   "metadata": {
    "id": "lpnLS1wmGmx6"
   },
   "outputs": [],
   "source": [
    "# Descomente qual a modalidade com a qual você deseja gerar os pontos do Tetraedro.\n",
    "#   1 - Coordenadas Esféricas\n",
    "#   2 - Auxílio de um cubo\n",
    "\n",
    "# modality = 1\n",
    "modality = 2"
   ]
  },
  {
   "cell_type": "code",
   "execution_count": null,
   "metadata": {
    "id": "DVExawxPGVRK"
   },
   "outputs": [],
   "source": [
    "# Variáveis contadoras.\n",
    "totalinside = 0\n",
    "next = 100\n",
    "\n",
    "# Simulando o teste 10M de vezes.\n",
    "for i in range(10000000):\n",
    "\n",
    "  tet = Tetrahedron(modality = modality)\n",
    "\n",
    "  vertexA = np.array(tet.points[0].toCartesianCoord())\n",
    "  vertexB = np.array(tet.points[1].toCartesianCoord())\n",
    "  vertexC = np.array(tet.points[2].toCartesianCoord())\n",
    "  vertexD = np.array(tet.points[3].toCartesianCoord())\n",
    "\n",
    "  normalVectors = [\n",
    "    np.cross((vertexB - vertexA), (vertexC - vertexA)),\n",
    "    np.cross((vertexB - vertexA), (vertexD - vertexA)),\n",
    "    np.cross((vertexC - vertexA), (vertexD - vertexA)),\n",
    "    np.cross((vertexC - vertexB), (vertexD - vertexB))\n",
    "  ]\n",
    "\n",
    "  centroid = (vertexA + vertexB + vertexC + vertexD) / 4\n",
    "\n",
    "  basePoints = np.array([vertexA, vertexA, vertexA, vertexB])\n",
    "\n",
    "  for j in range(4):\n",
    "    if(((centroid - basePoints[j]) * normalVectors[j]).sum() > 0):\n",
    "      normalVectors[j] *= -1\n",
    "\n",
    "  isOutside = False\n",
    "  for j in range(4):\n",
    "    if(((-1 * basePoints[j]) * normalVectors[j]).sum() > 0):\n",
    "      isOutside = True\n",
    "      break\n",
    "  if isOutside == False:\n",
    "    totalinside += 1\n",
    "\n",
    "  if i == (next - 1):\n",
    "    print(\"Percentage of \" + str(next) + \" samples\")\n",
    "    print(totalinside / next)\n",
    "    next *= 10"
   ]
  }
 ],
 "metadata": {
  "colab": {
   "collapsed_sections": [
    "w3AupSSxxI5n",
    "1Hw2S3D3tC12",
    "W63nSi5viyvb"
   ],
   "provenance": []
  },
  "kernelspec": {
   "name": "python3",
   "language": "python",
   "display_name": "Python 3 (ipykernel)"
  },
  "language_info": {
   "name": "python"
  }
 },
 "nbformat": 4,
 "nbformat_minor": 0
}
